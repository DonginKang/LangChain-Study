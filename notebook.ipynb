{
 "cells": [
  {
   "cell_type": "code",
   "execution_count": 27,
   "metadata": {},
   "outputs": [
    {
     "name": "stdout",
     "output_type": "stream",
     "text": [
      "['양말', '속옷', '반팔 티셔츠', '반바지', '수영복', '슬리퍼', '모자', '선글라스', '스마트폰', '충전기', '여권', '현지 통화', '우산', '스니커즈', '약품', '세면도구', '카메라', '지도', '물병']\n"
     ]
    }
   ],
   "source": [
    "from langchain.chat_models import ChatOpenAI\n",
    "from langchain.prompts.few_shot import FewShotPromptTemplate\n",
    "from langchain.callbacks import StreamingStdOutCallbackHandler\n",
    "from langchain.globals import set_llm_cache, set_debug\n",
    "from langchain.cache import InMemoryCache, SQLiteCache\n",
    "from langchain.schema import BaseOutputParser\n",
    "from langchain.prompts import PromptTemplate, ChatPromptTemplate\n",
    "\n",
    "set_llm_cache(SQLiteCache(\"cache.db\"))\n",
    "\n",
    "chat = ChatOpenAI(\n",
    "    temperature=0.1\n",
    ")\n",
    "\n",
    "class CommaOutputParser(BaseOutputParser):\n",
    "    def parse(self, text):\n",
    "        items = text.strip().split(\",\")\n",
    "        return list(map(str.strip, items))\n",
    "\n",
    "# 리스트를 쉼표로 구분된 문자열로 변환하는 함수\n",
    "def convert_list_to_string(activity_list):\n",
    "    return ', '.join(activity_list)\n",
    "\n",
    "\n",
    "template = ChatPromptTemplate.from_messages(\n",
    "    [\n",
    "        (\"system\", \"You are an expert in packing for international travel. You recommend the luggage people need when traveling abroad with airplane. And You are a list of max {max_items} generating machine. Everything you are asked will be answered with a comma separated list in lowercase.Do NOT reply with anything else. And you only reply in Korean.\"),\n",
    "        #(\"ai\", \"Ciao, mi chiamo {name}!\"),\n",
    "        (\n",
    "            \"human\",\n",
    "            \"I am a {gender} and I am going to travel abroad to {destination}. \\\n",
    "            I plan to depart on {start_month} {start_day}th and stay for {days} days. I plan to mainly {activities} during the trip. What luggage should I pack? Could you please tell me in as much detail as possible?\",\n",
    "        ),\n",
    "    ]\n",
    ")\n",
    "\n",
    "\n",
    "activities_list = [\"수영\", \"하이킹\", \"관광\"]\n",
    "\n",
    "input_data = {\n",
    "    \"gender\": \"man\",\n",
    "    \"destination\": \"Seoul\",\n",
    "    \"start_month\": \"5\",\n",
    "    \"start_day\": \"10\",\n",
    "    \"days\": \"5\",\n",
    "    \"activities\": convert_list_to_string(activities_list),\n",
    "    \"max_items\": 100\n",
    "}\n",
    "\n",
    "chain = template | chat | CommaOutputParser()\n",
    "# Invoke the chain with the input\n",
    "output = chain.invoke(input_data)\n",
    "\n",
    "# Print the output\n",
    "print(output)\n",
    "\n"
   ]
  }
 ],
 "metadata": {
  "kernelspec": {
   "display_name": "env",
   "language": "python",
   "name": "python3"
  },
  "language_info": {
   "codemirror_mode": {
    "name": "ipython",
    "version": 3
   },
   "file_extension": ".py",
   "mimetype": "text/x-python",
   "name": "python",
   "nbconvert_exporter": "python",
   "pygments_lexer": "ipython3",
   "version": "3.9.6"
  }
 },
 "nbformat": 4,
 "nbformat_minor": 2
}
